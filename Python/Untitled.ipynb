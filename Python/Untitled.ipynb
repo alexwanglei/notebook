{
 "cells": [
  {
   "cell_type": "code",
   "execution_count": 6,
   "metadata": {},
   "outputs": [
    {
     "data": {
      "text/plain": [
       "377"
      ]
     },
     "execution_count": 6,
     "metadata": {},
     "output_type": "execute_result"
    }
   ],
   "source": [
    "def last3(a, b):\n",
    "    last = 1\n",
    "    for i in range(b):\n",
    "        last = last*a%1000\n",
    "    return last\n",
    "last3(33, 47)"
   ]
  },
  {
   "cell_type": "code",
   "execution_count": 11,
   "metadata": {},
   "outputs": [
    {
     "data": {
      "text/plain": [
       "8"
      ]
     },
     "execution_count": 11,
     "metadata": {},
     "output_type": "execute_result"
    }
   ],
   "source": [
    "import random\n",
    "random.randint(0, 10)\n"
   ]
  },
  {
   "cell_type": "code",
   "execution_count": null,
   "metadata": {
    "collapsed": true
   },
   "outputs": [],
   "source": [
    "# 蓄水池算法\n",
    "import random\n",
    "def func(k):\n",
    "    select = None\n",
    "    count = 0\n",
    "    res = []\n",
    "    for i in open(\"stream.txt\", \"r\")\n",
    "        current = int(i)\n",
    "        if i < k:\n",
    "            res.append(current)\n",
    "        \n",
    "        index = random.randint(0, count)\n",
    "        count += 1\n",
    "        if index < k:\n",
    "            res[index] = current\n",
    "            "
   ]
  }
 ],
 "metadata": {
  "kernelspec": {
   "display_name": "Python 3",
   "language": "python",
   "name": "python3"
  },
  "language_info": {
   "codemirror_mode": {
    "name": "ipython",
    "version": 3
   },
   "file_extension": ".py",
   "mimetype": "text/x-python",
   "name": "python",
   "nbconvert_exporter": "python",
   "pygments_lexer": "ipython3",
   "version": "3.6.1"
  }
 },
 "nbformat": 4,
 "nbformat_minor": 2
}
