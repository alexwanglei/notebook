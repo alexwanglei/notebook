{
 "cells": [
  {
   "cell_type": "markdown",
   "metadata": {},
   "source": [
    "### 动态连通性\n"
   ]
  },
  {
   "cell_type": "code",
   "execution_count": 1,
   "metadata": {},
   "outputs": [],
   "source": [
    "# quick-find\n",
    "class UF:\n",
    "    def __init__(self, N):\n",
    "        self.id = range(N)\n",
    "        self.count = N\n",
    "    def count(self):\n",
    "        return self.count\n",
    "    def connected(self, p, q):\n",
    "        return self.find(p) == self.find(q)\n",
    "    def find(self, p):\n",
    "        return self.id[p]\n",
    "    def union(self, p, q):\n",
    "        pId = self.find(p)\n",
    "        qId = self.find(q)\n",
    "        if pId == qId:\n",
    "            return\n",
    "        for i in self.id:\n",
    "            if id[i] == pId:\n",
    "                id[i] = qId\n",
    "        self.count -= 1\n",
    "        "
   ]
  },
  {
   "cell_type": "code",
   "execution_count": 4,
   "metadata": {},
   "outputs": [],
   "source": [
    "# quick-union\n",
    "class QuickUF:\n",
    "    def __init__(self, N):\n",
    "        self.id = range(N)\n",
    "        self.count = N\n",
    "    def count(self):\n",
    "        return self.count\n",
    "    def connected(self, p, q):\n",
    "        return self.find(p) == self.find(q)\n",
    "    def find(self, p):\n",
    "        while p != id[p]:\n",
    "            p = id[p]\n",
    "        return p\n",
    "    def union(self, p, q):\n",
    "        pRoot = self.find(p)\n",
    "        qRoot = self.find(q)\n",
    "        if pRoot != qRoot:\n",
    "            self.id[pRoot] = qRoot\n",
    "            count -= 1"
   ]
  },
  {
   "cell_type": "code",
   "execution_count": null,
   "metadata": {
    "collapsed": true
   },
   "outputs": [],
   "source": [
    "# 加权quick-union\n",
    "class WeightedQuickUF:\n",
    "    ef __init__(self, N):\n",
    "        self.id = range(N)\n",
    "        self.sz = [1]*N\n",
    "        self.count = N\n",
    "    def count(self):\n",
    "        return self.count\n",
    "    def connected(self, p, q):\n",
    "        return self.find(p) == self.find(q)\n",
    "    def find(self, p):\n",
    "        while p != id[p]:\n",
    "            p = id[p]\n",
    "        return p\n",
    "    def union(self, p, q):\n",
    "        pRoot = self.find(p)\n",
    "        qRoot = self.find(q)\n",
    "        if pRoot != qRoot:\n",
    "            if self.sz[pRoot] > self.sz[qRoot]:\n",
    "                self.id[qRoot] = pRoot\n",
    "                self.sz[pRoot] += self.sz[qRoot]\n",
    "            else:\n",
    "                self.id[pRoot] = qRoot\n",
    "                self.sz[qRoot] += self.sz[pRoot]\n",
    "            self.count -= 1"
   ]
  }
 ],
 "metadata": {
  "kernelspec": {
   "display_name": "Python 3",
   "language": "python",
   "name": "python3"
  },
  "language_info": {
   "codemirror_mode": {
    "name": "ipython",
    "version": 3
   },
   "file_extension": ".py",
   "mimetype": "text/x-python",
   "name": "python",
   "nbconvert_exporter": "python",
   "pygments_lexer": "ipython3",
   "version": "3.6.1"
  }
 },
 "nbformat": 4,
 "nbformat_minor": 2
}
