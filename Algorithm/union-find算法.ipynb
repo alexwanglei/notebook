{
 "cells": [
  {
   "cell_type": "markdown",
   "metadata": {},
   "source": [
    "### 动态连通性\n"
   ]
  },
  {
   "cell_type": "code",
   "execution_count": 2,
   "metadata": {},
   "outputs": [
    {
     "ename": "SyntaxError",
     "evalue": "unexpected EOF while parsing (<ipython-input-2-37357cd9642f>, line 17)",
     "output_type": "error",
     "traceback": [
      "\u001b[1;36m  File \u001b[1;32m\"<ipython-input-2-37357cd9642f>\"\u001b[1;36m, line \u001b[1;32m17\u001b[0m\n\u001b[1;33m    if id[i] == pId:\u001b[0m\n\u001b[1;37m                    ^\u001b[0m\n\u001b[1;31mSyntaxError\u001b[0m\u001b[1;31m:\u001b[0m unexpected EOF while parsing\n"
     ]
    }
   ],
   "source": [
    "class UF:\n",
    "    def __init__(self, N):\n",
    "        self.id = range(N)\n",
    "        self.count = N\n",
    "    def count(self):\n",
    "        return self.count\n",
    "    def connected(self, p, q):\n",
    "        return self.find(p) == self.find(q)\n",
    "    def find(self, p):\n",
    "        return self.id[p]\n",
    "    def union(self, p, q):\n",
    "        pId = self.find(p)\n",
    "        qId = self.find(q)\n",
    "        if pId == qId:\n",
    "            return\n",
    "        for i in self.id:\n",
    "            if id[i] == pId:\n",
    "                id[i] = qId\n",
    "        self.count -= 1\n",
    "        "
   ]
  },
  {
   "cell_type": "code",
   "execution_count": null,
   "metadata": {
    "collapsed": true
   },
   "outputs": [],
   "source": []
  }
 ],
 "metadata": {
  "kernelspec": {
   "display_name": "Python 3",
   "language": "python",
   "name": "python3"
  },
  "language_info": {
   "codemirror_mode": {
    "name": "ipython",
    "version": 3
   },
   "file_extension": ".py",
   "mimetype": "text/x-python",
   "name": "python",
   "nbconvert_exporter": "python",
   "pygments_lexer": "ipython3",
   "version": "3.6.1"
  }
 },
 "nbformat": 4,
 "nbformat_minor": 2
}
