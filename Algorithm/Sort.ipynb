{
 "cells": [
  {
   "cell_type": "markdown",
   "metadata": {},
   "source": [
    "### 选择排序\n",
    "找到数组中最小的那个元素，将它和数组的第一个元素交换位置，在剩下的元素中找到最小的元素，将它与数组的第二个元素交换位置。如此往复，直到将整个数组排序。这种方法叫做选择排序，因为它在不断地选择剩余元素中的最小者。\n",
    "1. 运行时间和输入无关。一个已经有序的数组或是主键全部相等的数组和一个元素随机排列的数组所用的排序时间一样长。\n",
    "2. 数据移动是最少的。每次交换都会改变两个数组元素的值，因此选择排序用了N次交换，交换次数和数组的大小是线性关系。"
   ]
  },
  {
   "cell_type": "code",
   "execution_count": 1,
   "metadata": {},
   "outputs": [
    {
     "name": "stdout",
     "output_type": "stream",
     "text": [
      "[0, 1, 3, 4, 4, 6, 7, 8]\n"
     ]
    }
   ],
   "source": [
    "class SelectSort:\n",
    "    @staticmethod\n",
    "    def less(v, w):\n",
    "        return v < w\n",
    "    @staticmethod\n",
    "    def exch(a, i, j):\n",
    "        t = a[i]\n",
    "        a[i] = a[j]\n",
    "        a[j] = t\n",
    "    @staticmethod\n",
    "    def sort(a):\n",
    "        n = len(a)\n",
    "        for i in range(n):\n",
    "            min = i\n",
    "            for j in range(i+1, n):\n",
    "                if SelectSort.less(a[j], a[min]):\n",
    "                    min = j\n",
    "            SelectSort.exch(a, i, min)\n",
    "\n",
    "a = [4, 6, 1, 0 ,4 ,8, 3, 7]\n",
    "SelectSort.sort(a)\n",
    "print(a)"
   ]
  },
  {
   "cell_type": "markdown",
   "metadata": {},
   "source": [
    "### 插入排序\n",
    "插入排序对于实际应用中常见的某些类型的非随机数组很有效。"
   ]
  },
  {
   "cell_type": "code",
   "execution_count": 6,
   "metadata": {},
   "outputs": [
    {
     "name": "stdout",
     "output_type": "stream",
     "text": [
      "[0, 1, 3, 4, 4, 6, 7, 8]\n"
     ]
    }
   ],
   "source": [
    "class InsertSort:\n",
    "    @staticmethod\n",
    "    def less(v, w):\n",
    "        return v < w\n",
    "    @staticmethod\n",
    "    def exch(a, i, j):\n",
    "        t = a[i]\n",
    "        a[i] = a[j]\n",
    "        a[j] = t\n",
    "    @staticmethod\n",
    "    def sort(a):\n",
    "        n = len(a)\n",
    "        for i in range(1, n):\n",
    "            for j in range(i-1, -1, -1):\n",
    "                if InsertSort.less(a[j+1], a[j]):\n",
    "                    SelectSort.exch(a, j, j+1)\n",
    "\n",
    "a = [4, 6, 1, 0 ,4 ,8, 3, 7]\n",
    "InsertSort.sort(a)\n",
    "print(a)"
   ]
  },
  {
   "cell_type": "code",
   "execution_count": 5,
   "metadata": {},
   "outputs": [
    {
     "data": {
      "text/plain": [
       "[3, 2]"
      ]
     },
     "execution_count": 5,
     "metadata": {},
     "output_type": "execute_result"
    }
   ],
   "source": [
    "list(range(3, 1, -1))"
   ]
  },
  {
   "cell_type": "code",
   "execution_count": null,
   "metadata": {
    "collapsed": true
   },
   "outputs": [],
   "source": []
  }
 ],
 "metadata": {
  "kernelspec": {
   "display_name": "Python 3",
   "language": "python",
   "name": "python3"
  },
  "language_info": {
   "codemirror_mode": {
    "name": "ipython",
    "version": 3
   },
   "file_extension": ".py",
   "mimetype": "text/x-python",
   "name": "python",
   "nbconvert_exporter": "python",
   "pygments_lexer": "ipython3",
   "version": "3.6.1"
  }
 },
 "nbformat": 4,
 "nbformat_minor": 2
}
