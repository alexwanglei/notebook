{
 "cells": [
  {
   "cell_type": "markdown",
   "metadata": {},
   "source": [
    "### 选择排序\n",
    "找到数组中最小的那个元素，将它和数组的第一个元素交换位置，在剩下的元素中找到最小的元素，将它与数组的第二个元素交换位置。如此往复，直到将整个数组排序。这种方法叫做选择排序，因为它在不断地选择剩余元素中的最小者。\n",
    "1. 运行时间和输入无关。一个已经有序的数组或是主键全部相等的数组和一个元素随机排列的数组所用的排序时间一样长。\n",
    "2. 数据移动是最少的。每次交换都会改变两个数组元素的值，因此选择排序用了N次交换，交换次数和数组的大小是线性关系。"
   ]
  },
  {
   "cell_type": "code",
   "execution_count": 1,
   "metadata": {},
   "outputs": [
    {
     "name": "stdout",
     "output_type": "stream",
     "text": [
      "[0, 1, 3, 4, 4, 6, 7, 8]\n"
     ]
    }
   ],
   "source": [
    "class SelectSort:\n",
    "    @staticmethod\n",
    "    def less(v, w):\n",
    "        return v < w\n",
    "    @staticmethod\n",
    "    def exch(a, i, j):\n",
    "        t = a[i]\n",
    "        a[i] = a[j]\n",
    "        a[j] = t\n",
    "    @staticmethod\n",
    "    def sort(a):\n",
    "        n = len(a)\n",
    "        for i in range(n):\n",
    "            min = i\n",
    "            for j in range(i+1, n):\n",
    "                if SelectSort.less(a[j], a[min]):\n",
    "                    min = j\n",
    "            SelectSort.exch(a, i, min)\n",
    "\n",
    "a = [4, 6, 1, 0 ,4 ,8, 3, 7]\n",
    "SelectSort.sort(a)\n",
    "print(a)"
   ]
  },
  {
   "cell_type": "markdown",
   "metadata": {},
   "source": [
    "### 插入排序\n",
    "插入排序对于实际应用中常见的某些类型的非随机数组很有效。"
   ]
  },
  {
   "cell_type": "code",
   "execution_count": 6,
   "metadata": {},
   "outputs": [
    {
     "name": "stdout",
     "output_type": "stream",
     "text": [
      "[0, 1, 3, 4, 4, 6, 7, 8]\n"
     ]
    }
   ],
   "source": [
    "class InsertSort:\n",
    "    @staticmethod\n",
    "    def less(v, w):\n",
    "        return v < w\n",
    "    @staticmethod\n",
    "    def exch(a, i, j):\n",
    "        t = a[i]\n",
    "        a[i] = a[j]\n",
    "        a[j] = t\n",
    "    @staticmethod\n",
    "    def sort(a):\n",
    "        n = len(a)\n",
    "        for i in range(1, n):\n",
    "            for j in range(i-1, -1, -1):\n",
    "                if InsertSort.less(a[j+1], a[j]):\n",
    "                    SelectSort.exch(a, j, j+1)\n",
    "\n",
    "a = [4, 6, 1, 0 ,4 ,8, 3, 7]\n",
    "InsertSort.sort(a)\n",
    "print(a)"
   ]
  },
  {
   "cell_type": "code",
   "execution_count": 5,
   "metadata": {},
   "outputs": [
    {
     "data": {
      "text/plain": [
       "[3, 2]"
      ]
     },
     "execution_count": 5,
     "metadata": {},
     "output_type": "execute_result"
    }
   ],
   "source": [
    "list(range(3, 1, -1))"
   ]
  },
  {
   "cell_type": "markdown",
   "metadata": {
    "collapsed": true
   },
   "source": [
    "### 希尔排序\n",
    "基于插入排序的快速排序算法，交换不相邻的元素以对数组的局部进行排序，并最终用插入排序将局部有序的数组排序。\n",
    "希尔排序的思想是使数组中任意间隔为h的元素都是有序的。这样的数组被称为h有序数组。"
   ]
  },
  {
   "cell_type": "code",
   "execution_count": 2,
   "metadata": {},
   "outputs": [
    {
     "name": "stdout",
     "output_type": "stream",
     "text": [
      "[-5, 1, 2, 4, 5, 6, 7, 8, 9, 10, 12, 15, 20, 34]\n"
     ]
    }
   ],
   "source": [
    "def ShellSort(a):\n",
    "    n = len(a)\n",
    "    # 递增序列 1, 4, 13, 40\n",
    "    h = 1\n",
    "    while h < n//3:\n",
    "        h = 3*h + 1\n",
    "    while h >= 1:\n",
    "        # 间隔h的插入排序\n",
    "        for i in range(h, n):\n",
    "            j = i\n",
    "            while j >= h:\n",
    "                if a[j] < a[j-h]:\n",
    "                    t = a[j]\n",
    "                    a[j] = a[j-h]\n",
    "                    a[j-h] = t\n",
    "                j -= h\n",
    "        h = h//3\n",
    "a =[5, 8, 2, 1, 7, 4, 9, 6, 10, 20, 12, -5, 15, 34]\n",
    "ShellSort(a)\n",
    "print(a)"
   ]
  },
  {
   "cell_type": "markdown",
   "metadata": {},
   "source": [
    "### 归并排序\n",
    "要将一个数组排序，可以先（递归地）将它分成两半分别排序，然后将结果归并起来。\n",
    "它能够保证将任意长队为N的数组排序所需时间和NlogN成正比，主要确定是它需要额外空间和N成正比。"
   ]
  },
  {
   "cell_type": "code",
   "execution_count": 5,
   "metadata": {},
   "outputs": [
    {
     "name": "stdout",
     "output_type": "stream",
     "text": [
      "[-5, 1, 2, 4, 5, 6, 7, 8, 9, 10, 12, 15, 20, 34]\n"
     ]
    }
   ],
   "source": [
    "def Merge(a, b):\n",
    "    c = []\n",
    "    while len(a) !=0 and len(b) != 0:\n",
    "        if a[0] < b[0]:\n",
    "            c.append(a[0])\n",
    "            a.remove(a[0])\n",
    "        else:\n",
    "            c.append(b[0])\n",
    "            b.remove(b[0])\n",
    "    if len(a) != 0:\n",
    "        c += a\n",
    "    else:\n",
    "        c += b\n",
    "    return c\n",
    "\n",
    "def MergeSort(a):\n",
    "    n = len(a)\n",
    "    if n == 1 or n == 0:\n",
    "        return a\n",
    "    mid = n//2\n",
    "    l = MergeSort(a[:mid])\n",
    "    r = MergeSort(a[mid:])\n",
    "    return Merge(l, r)\n",
    "\n",
    "a =[5, 8, 2, 1, 7, 4, 9, 6, 10, 20, 12, -5, 15, 34]\n",
    "a = MergeSort(a)\n",
    "print(a)"
   ]
  },
  {
   "cell_type": "markdown",
   "metadata": {},
   "source": [
    "### 快速排序\n",
    "快速排序是一种分治算法。它将一个数组分成两个子数组，将两部分独立排序。\n",
    "快速排序将数组排序的方式是当两个子数组都有序时整个数组也就自然有序了。"
   ]
  },
  {
   "cell_type": "code",
   "execution_count": 8,
   "metadata": {},
   "outputs": [
    {
     "name": "stdout",
     "output_type": "stream",
     "text": [
      "[-5, 1, 2, 4, 5, 6, 7, 8, 9, 10, 12, 15, 20, 34]\n"
     ]
    }
   ],
   "source": [
    "def QuickSort(a):\n",
    "    sort(a, 0, len(a)-1)\n",
    "def sort(a, lo, hi):\n",
    "    if hi <= lo:\n",
    "        return\n",
    "    j = partition(a, lo, hi)\n",
    "    sort(a, lo, j-1)\n",
    "    sort(a, j+1, hi)\n",
    "    \n",
    "def partition(a, lo, hi):\n",
    "    i = lo\n",
    "    j = hi\n",
    "    v = a[lo]\n",
    "    while True:\n",
    "        while a[i] <= v:\n",
    "            if i == hi:\n",
    "                break\n",
    "            i += 1\n",
    "        while a[j] > v:\n",
    "            if j == lo:\n",
    "                break\n",
    "            j -= 1\n",
    "        if i >= j:\n",
    "            break\n",
    "        t = a[i]\n",
    "        a[i] = a[j]\n",
    "        a[j] = t\n",
    "    t = a[lo]\n",
    "    a[lo] = a[j]\n",
    "    a[j] = t\n",
    "    return j\n",
    "\n",
    "a =[5, 8, 2, 1, 7, 4, 9, 6, 10, 20, 12, -5, 15, 34]\n",
    "QuickSort(a)\n",
    "print(a)"
   ]
  },
  {
   "cell_type": "markdown",
   "metadata": {},
   "source": [
    "### 改进快速排序\n",
    "* 切换到插入排序：对于小数组，快速排序比插入排序慢\n",
    "* 三取样切分\n",
    "* 熵最优排序"
   ]
  },
  {
   "cell_type": "code",
   "execution_count": 7,
   "metadata": {},
   "outputs": [
    {
     "name": "stdout",
     "output_type": "stream",
     "text": [
      "[1, 2, 4, 5, 5, 6, 7, 8, 9, 10, 12, 15, 20, 34]\n"
     ]
    }
   ],
   "source": [
    "def quicksort(a):\n",
    "    sort(0, len(a)-1, a)\n",
    "    return a\n",
    "def sort(lo, hi, a):\n",
    "    if lo < hi:\n",
    "        p = partition(lo, hi, a)\n",
    "        sort(lo, p-1, a)\n",
    "        sort(p+1, hi, a)\n",
    "def partition(lo, hi, a):\n",
    "    v = a[hi]\n",
    "    i,j = lo, hi-1\n",
    "    while i <= j:\n",
    "        if a[i] > v:\n",
    "            a[i], a[j] = a[j], a[i]\n",
    "            j -= 1\n",
    "        else:\n",
    "            i += 1\n",
    "    a[i], a[hi] = a[hi], a[i]\n",
    "    return i\n",
    "\n",
    "a =[5, 8, 2, 1, 7, 4, 9, 6, 10, 20, 12, 5, 15, 34]\n",
    "quicksort(a)\n",
    "print(a)"
   ]
  },
  {
   "cell_type": "code",
   "execution_count": null,
   "metadata": {
    "collapsed": true
   },
   "outputs": [],
   "source": []
  }
 ],
 "metadata": {
  "kernelspec": {
   "display_name": "Python 3",
   "language": "python",
   "name": "python3"
  },
  "language_info": {
   "codemirror_mode": {
    "name": "ipython",
    "version": 3
   },
   "file_extension": ".py",
   "mimetype": "text/x-python",
   "name": "python",
   "nbconvert_exporter": "python",
   "pygments_lexer": "ipython3",
   "version": "3.6.1"
  }
 },
 "nbformat": 4,
 "nbformat_minor": 2
}
