{
 "cells": [
  {
   "cell_type": "markdown",
   "metadata": {},
   "source": [
    "### 符号表\n",
    "符号表是一种存储键值对的数据结构，支持两种操作：插入（put）,即将一组新的键值对存入表中；查找（get）,即根据给定的见得到相应的值。\n",
    "1. 重复的键\n",
    "   * 每个键只对应着一个值\n",
    "   * 当用例代码向表中存入的键值对和表中已有的键冲突时，新的值会替代旧的值。\n",
    "2. 空（null）键\n",
    "   * 键不能为空。\n",
    "3. 空（null）值\n",
    "   * 不允许有空值。当键不存在时get()方法返回空。\n",
    " "
   ]
  }
 ],
 "metadata": {
  "kernelspec": {
   "display_name": "Python 3",
   "language": "python",
   "name": "python3"
  },
  "language_info": {
   "codemirror_mode": {
    "name": "ipython",
    "version": 3
   },
   "file_extension": ".py",
   "mimetype": "text/x-python",
   "name": "python",
   "nbconvert_exporter": "python",
   "pygments_lexer": "ipython3",
   "version": "3.6.1"
  }
 },
 "nbformat": 4,
 "nbformat_minor": 2
}
