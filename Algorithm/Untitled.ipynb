{
 "cells": [
  {
   "cell_type": "markdown",
   "metadata": {},
   "source": [
    "### 符号表\n",
    "符号表是一种存储键值对的数据结构，支持两种操作：插入（put）,即将一组新的键值对存入表中；查找（get）,即根据给定的见得到相应的值。\n",
    "1. 重复的键\n",
    "   * 每个键只对应着一个值\n",
    "   * 当用例代码向表中存入的键值对和表中已有的键冲突时，新的值会替代旧的值。\n",
    "2. 空（null）键\n",
    "   * 键不能为空。\n",
    "3. 空（null）值\n",
    "   * 不允许有空值。当键不存在时get()方法返回空。\n",
    " "
   ]
  },
  {
   "cell_type": "markdown",
   "metadata": {},
   "source": [
    "### 二叉查找树\n",
    "一棵二叉查找树(BST)是一棵二叉树，其中每个节点都含有一个键，每个节点的键都大于其左子树中的任意节点的键而小于右子树的任意节点的键。"
   ]
  },
  {
   "cell_type": "code",
   "execution_count": 6,
   "metadata": {},
   "outputs": [],
   "source": [
    "class Node:\n",
    "    def __init__(self, key, val, n):\n",
    "        self.key = key\n",
    "        self.val = val\n",
    "        self.left = None\n",
    "        self.right = None\n",
    "        self.n = n\n",
    "class BST:\n",
    "    def __init__(self, root):\n",
    "        self.root = root\n",
    "    def size(self):\n",
    "        return size(self.root)\n",
    "    def size(self, node):\n",
    "        if node == None:\n",
    "            return 0\n",
    "        else:\n",
    "            return node.n\n",
    "        \n",
    "    def get(self, key):\n",
    "        return self.get(self.root, key)\n",
    "    def get(self, node, key):\n",
    "        if node == None:\n",
    "            return None\n",
    "        if key > node.key:\n",
    "            get(node.right, key)\n",
    "        elif key < node.key:\n",
    "            get(node.left, key)\n",
    "        else:\n",
    "            return node.val\n",
    "        \n",
    "    def put(self, key, val):\n",
    "        self.root = self.put(self.root, key, val)\n",
    "        \n",
    "    def put(self, node, key, val):\n",
    "        if node == None:\n",
    "            return None(key, val, 1)\n",
    "        if key < node.key:\n",
    "            node.left = put(node.left, key, val)\n",
    "        elif key > node.key:\n",
    "            node.right = put(node.right, key, val)\n",
    "        else:\n",
    "            node.val = val\n",
    "        node.n = self.size(node.left) + self.size(node.right) + 1\n",
    "        return node\n",
    "    "
   ]
  },
  {
   "cell_type": "raw",
   "metadata": {},
   "source": []
  }
 ],
 "metadata": {
  "kernelspec": {
   "display_name": "Python 3",
   "language": "python",
   "name": "python3"
  },
  "language_info": {
   "codemirror_mode": {
    "name": "ipython",
    "version": 3
   },
   "file_extension": ".py",
   "mimetype": "text/x-python",
   "name": "python",
   "nbconvert_exporter": "python",
   "pygments_lexer": "ipython3",
   "version": "3.6.1"
  }
 },
 "nbformat": 4,
 "nbformat_minor": 2
}
