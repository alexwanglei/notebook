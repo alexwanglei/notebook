{
 "cells": [
  {
   "cell_type": "markdown",
   "metadata": {},
   "source": [
    "许多基础数据类型都和对象的集合有关。数据类型的值就是一组对象的集合，所有操作都是关于添加、删除或是访问集合中的对象。背包、队列和栈不同之处在于删除或者访问对象的顺序不同。\n",
    "## 背包\n",
    "背包是一种不支持从中删除元素的集合数据类型，它的目的就是帮助用例收集元素并迭代遍历所有元素，迭代的顺序不确定且与用例无关。"
   ]
  },
  {
   "cell_type": "markdown",
   "metadata": {},
   "source": [
    "## 先进先出队列\n",
    "先进先出队列是一种基于先进先出（FIFO）策略的集合类型。在应用程序中使用队列的主要原因是在用集合保存元素的同时保存它们的相对顺序：使它们入列顺序和出列顺序相同。"
   ]
  },
  {
   "cell_type": "code",
   "execution_count": 24,
   "metadata": {},
   "outputs": [
    {
     "name": "stdout",
     "output_type": "stream",
     "text": [
      "2\n",
      "3\n",
      "4\n"
     ]
    },
    {
     "data": {
      "text/plain": [
       "3"
      ]
     },
     "execution_count": 24,
     "metadata": {},
     "output_type": "execute_result"
    }
   ],
   "source": [
    "import pdb\n",
    "class Node():\n",
    "    def __init__(self, item):\n",
    "        self.item = item\n",
    "        self.next = None\n",
    "class Queue():\n",
    "    def __init__(self):\n",
    "        self.first = None\n",
    "        self.last = None\n",
    "        self.index = None\n",
    "        self.N = 0\n",
    "    def isEmpty(self):\n",
    "        return self.first == None\n",
    "    def size(self):\n",
    "        return self.N\n",
    "    \n",
    "    def enqueue(self, item):\n",
    "        oldlast = self.last\n",
    "        self.last = Node(item)\n",
    "        if self.isEmpty():\n",
    "            self.first = self.last\n",
    "        else:\n",
    "            oldlast.next = self.last\n",
    "        self.N += 1\n",
    "    def dequeue(self):\n",
    "        item = self.first.item\n",
    "        self.first = self.first.next\n",
    "        if self.isEmpty():\n",
    "            self.last = None\n",
    "        self.N -= 1\n",
    "        return item\n",
    "    \n",
    "    def __iter__(self):\n",
    "        self.index = self.first\n",
    "        return self\n",
    "    def __next__(self):\n",
    "        if self.index == None:\n",
    "            raise StopIteration()\n",
    "        else:\n",
    "            item = self.index.item\n",
    "            self.index = self.index.next\n",
    "            return item\n",
    "    \n",
    "q = Queue()\n",
    "q.enqueue(1)\n",
    "q.size()\n",
    "q.enqueue(2)\n",
    "q.enqueue(3)\n",
    "q.enqueue(4)\n",
    "q.size()\n",
    "q.dequeue()\n",
    "q.size()\n",
    "for i in q:\n",
    "    print(i)\n",
    "q.size()"
   ]
  },
  {
   "cell_type": "markdown",
   "metadata": {},
   "source": [
    "## 下压栈\n",
    "下压栈是一种基于后进先出（LIFO）策略的集合类型。在应用程序中使用栈迭代器的一个典型原因是在用集合保存元素的同时颠倒它们的相对顺序。"
   ]
  },
  {
   "cell_type": "code",
   "execution_count": 34,
   "metadata": {},
   "outputs": [
    {
     "name": "stdout",
     "output_type": "stream",
     "text": [
      "1\n"
     ]
    }
   ],
   "source": [
    "import pdb\n",
    "class ArrayStack(object):\n",
    "    def __init__(self):\n",
    "        self.a = []\n",
    "        self.N = 0\n",
    "    def isEmpty(self):\n",
    "        return self.N == 0\n",
    "    def size(self):\n",
    "        return len(self.a)\n",
    "    def push(self, item):\n",
    "        self.a.append(item)\n",
    "        self.N += 1\n",
    "    def pop(self):\n",
    "        self.N -= 1\n",
    "        item = self.a.pop()\n",
    "        return item\n",
    "    def peek(self):\n",
    "        return self.a[self.N-1]\n",
    "    def __iter__(self):\n",
    "        return self\n",
    "    def __next__(self):\n",
    "        if self.N == 0:\n",
    "            raise StopIteration\n",
    "        else:\n",
    "            self.N -= 1\n",
    "            return self.a[self.N]\n",
    "print(1)"
   ]
  },
  {
   "cell_type": "code",
   "execution_count": 7,
   "metadata": {},
   "outputs": [],
   "source": [
    "def parentheses():\n",
    "    stack = ArrayStack()\n",
    "    instr = input(\"raw_input:\")\n",
    "    for i in instr:\n",
    "        if i == \")\" and stack.peek() == \"(\":\n",
    "            stack.pop()\n",
    "        elif i == \"]\" and stack.peek()==\"[\":\n",
    "            stack.pop()\n",
    "        elif i==\"}\" and stack.peek()==\"{\":\n",
    "            stack.pop()\n",
    "        else:\n",
    "            stack.push(i)\n",
    "    return stack.isEmpty()"
   ]
  },
  {
   "cell_type": "code",
   "execution_count": null,
   "metadata": {
    "collapsed": true
   },
   "outputs": [],
   "source": []
  }
 ],
 "metadata": {
  "kernelspec": {
   "display_name": "Python 3",
   "language": "python",
   "name": "python3"
  },
  "language_info": {
   "codemirror_mode": {
    "name": "ipython",
    "version": 3
   },
   "file_extension": ".py",
   "mimetype": "text/x-python",
   "name": "python",
   "nbconvert_exporter": "python",
   "pygments_lexer": "ipython3",
   "version": "3.6.1"
  }
 },
 "nbformat": 4,
 "nbformat_minor": 2
}
