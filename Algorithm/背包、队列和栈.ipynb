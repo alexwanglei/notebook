{
 "cells": [
  {
   "cell_type": "markdown",
   "metadata": {},
   "source": [
    "许多基础数据类型都和对象的集合有关。数据类型的值就是一组对象的集合，所有操作都是关于添加、删除或是访问集合中的对象。背包、队列和栈不同之处在于删除或者访问对象的顺序不同。\n",
    "## 背包\n",
    "背包是一种不支持从中删除元素的集合数据类型，它的目的就是帮助用例收集元素并迭代遍历所有元素，迭代的顺序不确定且与用例无关。"
   ]
  },
  {
   "cell_type": "markdown",
   "metadata": {},
   "source": [
    "## 先进先出队列\n",
    "先进先出队列是一种基于先进先出（FIFO）策略的集合类型。在应用程序中使用队列的主要原因是在用集合保存元素的同时保存它们的相对顺序：使它们入列顺序和出列顺序相同。"
   ]
  },
  {
   "cell_type": "markdown",
   "metadata": {},
   "source": [
    "## 下压栈\n",
    "下压栈是一种基于后进先出（LIFO）策略的集合类型。在应用程序中使用栈迭代器的一个典型原因是在用集合保存元素的同时颠倒它们的相对顺序。"
   ]
  },
  {
   "cell_type": "code",
   "execution_count": 29,
   "metadata": {
    "collapsed": true
   },
   "outputs": [],
   "source": [
    "import pdb\n",
    "class ArrayStack(object):\n",
    "    def __init__(self):\n",
    "        self.a = []\n",
    "        self.N = 0\n",
    "    def isEmpty(self):\n",
    "        return self.N == 0\n",
    "    def size(self):\n",
    "        return self.N\n",
    "    def push(self, item):\n",
    "        self.a.append(item)\n",
    "        self.N += 1\n",
    "    def pop(self):\n",
    "        self.N -= 1\n",
    "        item = self.a.pop()\n",
    "        return item\n",
    "    def __iter__(self):\n",
    "        return self\n",
    "    def __next__(self):\n",
    "        pdb.set_trace() \n",
    "        if self.N == 0:\n",
    "            raise StopIteration\n",
    "        else:\n",
    "            i = self.N - 1\n",
    "            return self.a[i]\n",
    "        \n"
   ]
  },
  {
   "cell_type": "code",
   "execution_count": null,
   "metadata": {},
   "outputs": [
    {
     "name": "stdout",
     "output_type": "stream",
     "text": [
      "3\n",
      "> <ipython-input-29-cad4c88507c2>(21)__next__()\n",
      "-> if self.N == 0:\n",
      "(Pdb) self.N\n",
      "3\n",
      "(Pdb) n\n",
      "> <ipython-input-29-cad4c88507c2>(24)__next__()\n",
      "-> i = self.N - 1\n",
      "(Pdb) n\n",
      "> <ipython-input-29-cad4c88507c2>(25)__next__()\n",
      "-> return self.a[i]\n",
      "(Pdb) i\n",
      "2\n",
      "(Pdb) self.a[i]\n",
      "'or'\n"
     ]
    }
   ],
   "source": [
    "stack = ArrayStack()\n",
    "stack.push(\"to\")\n",
    "stack.push(\"be\")\n",
    "stack.push(\"or\")\n",
    "stack.isEmpty()\n",
    "stack.size()\n",
    "stack.pop()\n",
    "stack.push(\"not\")\n",
    "print(stack.size())\n",
    "for i in stack:\n",
    "    print(i)"
   ]
  },
  {
   "cell_type": "code",
   "execution_count": null,
   "metadata": {
    "collapsed": true
   },
   "outputs": [],
   "source": []
  }
 ],
 "metadata": {
  "kernelspec": {
   "display_name": "Python 3",
   "language": "python",
   "name": "python3"
  },
  "language_info": {
   "codemirror_mode": {
    "name": "ipython",
    "version": 3
   },
   "file_extension": ".py",
   "mimetype": "text/x-python",
   "name": "python",
   "nbconvert_exporter": "python",
   "pygments_lexer": "ipython3",
   "version": "3.6.1"
  }
 },
 "nbformat": 4,
 "nbformat_minor": 2
}
