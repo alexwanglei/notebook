{
 "cells": [
  {
   "cell_type": "markdown",
   "metadata": {},
   "source": [
    "### 优先队列\n",
    "支持两种操作：删除最大元素和插入元素\n",
    "堆排序：通过插入一列元素然后一个个地删掉其中最小的元素，用优先队列实现排序算法。\n",
    "优先队列是一种抽象数据类型，它表示了一组值和对这些值的操作\n",
    "二叉堆：每个元素都要保证大于等于另两个特定位置的元素。\n",
    "当一棵二叉树的每个节点都大于等于它的两个子节点时，它被称为堆有序。根节点是堆有序的二叉树中的最大节点。\n",
    "二叉堆表示法：使用完全二叉树，只用数组而不需要指针就可以表示。将二叉树节点按照层级顺序放入数组中。"
   ]
  },
  {
   "cell_type": "code",
   "execution_count": 1,
   "metadata": {},
   "outputs": [
    {
     "ename": "SyntaxError",
     "evalue": "invalid syntax (<ipython-input-1-e0d1ef02025f>, line 20)",
     "output_type": "error",
     "traceback": [
      "\u001b[1;36m  File \u001b[1;32m\"<ipython-input-1-e0d1ef02025f>\"\u001b[1;36m, line \u001b[1;32m20\u001b[0m\n\u001b[1;33m    while k > 1 and self.pq[k] > self.pq[k//2]\u001b[0m\n\u001b[1;37m                                              ^\u001b[0m\n\u001b[1;31mSyntaxError\u001b[0m\u001b[1;31m:\u001b[0m invalid syntax\n"
     ]
    }
   ],
   "source": [
    "class MaxPQ:\n",
    "    def __init__(self):\n",
    "        self.pq = [0]\n",
    "        self.N = 0\n",
    "    def isEmpty(self):\n",
    "        return self.N == 0\n",
    "    def size(self):\n",
    "        return self.N\n",
    "    def insert(self, v):\n",
    "        self.pq.append(v)\n",
    "        self.N += 1\n",
    "        self.swim(self.N)\n",
    "    def delMax(self):\n",
    "        self.exch(1, self.N)\n",
    "        max = self.pq.remove()\n",
    "        self.N -= 1\n",
    "        self.sink(1)\n",
    "        return max\n",
    "    def swim(self, k):\n",
    "        while k > 1 and self.pq[k] > self.pq[k//2]\n",
    "            t = self.pq[k]\n",
    "            self.pq[k] = self.pq[j]\n",
    "            self.pq[j] = t\n",
    "            k = k//2\n",
    "    def sink(self, k):\n",
    "        while 2*k <= self.N:\n",
    "            j = 2*k\n",
    "            if j<self.N and self.pq[j] < self.pq[j+1]:\n",
    "                j += 1\n",
    "            if self.pq[k] < self.pq[j]:\n",
    "                t = self.pq[k]\n",
    "                self.pq[k] = self.pq[j]\n",
    "                self.pq[j] = t\n",
    "            k = j    \n",
    "    "
   ]
  },
  {
   "cell_type": "code",
   "execution_count": 3,
   "metadata": {},
   "outputs": [
    {
     "name": "stdout",
     "output_type": "stream",
     "text": [
      "[-5, 1, 2, 4, 5, 6, 7, 8, 9, 10, 12, 15, 20, 34]\n"
     ]
    }
   ],
   "source": [
    "def heapSort(_list):\n",
    "    heapify(_list)\n",
    "    end = len(_list)-1\n",
    "    while end > 0:\n",
    "        _list[0], _list[end] = _list[end], _list[0]\n",
    "        end -= 1\n",
    "        shift_down(_list, 0, end)\n",
    "    return _list\n",
    "\n",
    "def heapify(_list):\n",
    "    n = len(_list)\n",
    "    start = n//2\n",
    "    for i in range(start, -1, -1):\n",
    "        shift_down(_list, i, n-1)\n",
    "        \n",
    "def shift_down(_list, start, end):\n",
    "    root = start\n",
    "    while 2*root+1 <= end:\n",
    "        child = 2*root + 1\n",
    "        if child+1 <= end and _list[child] < _list[child+1]:\n",
    "            child += 1\n",
    "        if child <= end and _list[root] < _list[child]:\n",
    "            _list[root], _list[child] = _list[child], _list[root]\n",
    "            root = child\n",
    "        else:\n",
    "            return\n",
    "    \n",
    "a =[5, 8, 2, 1, 7, 4, 9, 6, 10, 20, 12, -5, 15, 34]\n",
    "heapSort(a)\n",
    "print(a)"
   ]
  },
  {
   "cell_type": "raw",
   "metadata": {},
   "source": []
  }
 ],
 "metadata": {
  "kernelspec": {
   "display_name": "Python 3",
   "language": "python",
   "name": "python3"
  },
  "language_info": {
   "codemirror_mode": {
    "name": "ipython",
    "version": 3
   },
   "file_extension": ".py",
   "mimetype": "text/x-python",
   "name": "python",
   "nbconvert_exporter": "python",
   "pygments_lexer": "ipython3",
   "version": "3.6.1"
  }
 },
 "nbformat": 4,
 "nbformat_minor": 2
}
