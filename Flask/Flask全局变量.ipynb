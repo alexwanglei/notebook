{
 "cells": [
  {
   "cell_type": "markdown",
   "metadata": {},
   "source": [
    "### 全局变量"
   ]
  },
  {
   "cell_type": "code",
   "execution_count": null,
   "metadata": {
    "collapsed": true
   },
   "outputs": [],
   "source": [
    "# context locals\n",
    "_request_ctx_stack = LocalStack()\n",
    "current_app = LocalProxy(lambda: _request_ctx_stack.top.app)\n",
    "request = LocalProxy(lambda: _request_ctx_stack.top.request)\n",
    "session = LocalProxy(lambda: _request_ctx_stack.top.session)\n",
    "g = LocalProxy(lambda: _request_ctx_stack.top.g)"
   ]
  },
  {
   "cell_type": "markdown",
   "metadata": {},
   "source": [
    "#### 请求上下文栈\n",
    "werkzeug.local.LocalStack:保存请求上下文的栈，它有一个私有属性 _ local = Local()\n",
    "Local类实现了为每个进程保存独立的数据：以进程id为key，保存对应的数据字典\n",
    "{10412: {'stack': [1]}}"
   ]
  },
  {
   "cell_type": "code",
   "execution_count": null,
   "metadata": {
    "collapsed": true
   },
   "outputs": [],
   "source": [
    "class LocalStack(object):\n",
    "    def __init__(self):\n",
    "        self._local = Local()\n",
    "\n",
    "    def __release_local__(self):\n",
    "        self._local.__release_local__()\n",
    "\n",
    "    def _get__ident_func__(self):\n",
    "        return self._local.__ident_func__\n",
    "\n",
    "    def _set__ident_func__(self, value):\n",
    "        object.__setattr__(self._local, '__ident_func__', value)\n",
    "    __ident_func__ = property(_get__ident_func__, _set__ident_func__)\n",
    "    del _get__ident_func__, _set__ident_func__\n",
    "\n",
    "    def __call__(self):\n",
    "        def _lookup():\n",
    "            rv = self.top\n",
    "            if rv is None:\n",
    "                raise RuntimeError('object unbound')\n",
    "            return rv\n",
    "        return LocalProxy(_lookup)\n",
    "\n",
    "    def push(self, obj):\n",
    "        \"\"\"Pushes a new item to the stack\"\"\"\n",
    "        rv = getattr(self._local, 'stack', None)\n",
    "        if rv is None:\n",
    "            self._local.stack = rv = []\n",
    "        rv.append(obj)\n",
    "        return rv\n",
    "\n",
    "    def pop(self):\n",
    "        \"\"\"Removes the topmost item from the stack, will return the\n",
    "        old value or `None` if the stack was already empty.\n",
    "        \"\"\"\n",
    "        stack = getattr(self._local, 'stack', None)\n",
    "        if stack is None:\n",
    "            return None\n",
    "        elif len(stack) == 1:\n",
    "            release_local(self._local)\n",
    "            return stack[-1]\n",
    "        else:\n",
    "            return stack.pop()\n",
    "\n",
    "    @property\n",
    "    def top(self):\n",
    "        \"\"\"The topmost item on the stack.  If the stack is empty,\n",
    "        `None` is returned.\n",
    "        \"\"\"\n",
    "        try:\n",
    "            return self._local.stack[-1]\n",
    "        except (AttributeError, IndexError):\n",
    "            return None"
   ]
  },
  {
   "cell_type": "markdown",
   "metadata": {},
   "source": [
    "#### current_app\n",
    "LocalProxy:扮演werkzeug local的代理"
   ]
  },
  {
   "cell_type": "markdown",
   "metadata": {},
   "source": [
    "#### request\n",
    "继承werkzeug.wrappers.Request"
   ]
  },
  {
   "cell_type": "code",
   "execution_count": null,
   "metadata": {
    "collapsed": true
   },
   "outputs": [],
   "source": [
    "class Request(RequestBase):\n",
    "    \"\"\"The request object used by default in flask.  Remembers the\n",
    "    matched endpoint and view arguments.\n",
    "\n",
    "    It is what ends up as :class:`~flask.request`.  If you want to replace\n",
    "    the request object used you can subclass this and set\n",
    "    :attr:`~flask.Flask.request_class` to your subclass.\n",
    "    \"\"\"\n",
    "\n",
    "    def __init__(self, environ):\n",
    "        RequestBase.__init__(self, environ)\n",
    "        self.endpoint = None\n",
    "        self.view_args = None"
   ]
  },
  {
   "cell_type": "markdown",
   "metadata": {},
   "source": [
    "#### werkzeug.wrappers.Request\n",
    "Mixin知识点：\n"
   ]
  },
  {
   "cell_type": "code",
   "execution_count": null,
   "metadata": {
    "collapsed": true
   },
   "outputs": [],
   "source": [
    "class Request(BaseRequest, AcceptMixin, ETagRequestMixin,\n",
    "              UserAgentMixin, AuthorizationMixin,\n",
    "              CommonRequestDescriptorsMixin):"
   ]
  },
  {
   "cell_type": "markdown",
   "metadata": {},
   "source": [
    "#### session\n",
    "请求上下文中创建session\n"
   ]
  },
  {
   "cell_type": "code",
   "execution_count": null,
   "metadata": {
    "collapsed": true
   },
   "outputs": [],
   "source": [
    "self.session = app.open_session(self.request)\n",
    "\n",
    "def open_session(self, request):\n",
    "    \"\"\"Creates or opens a new session.  Default implementation stores all\n",
    "    session data in a signed cookie.  This requires that the\n",
    "    :attr:`secret_key` is set.\n",
    "\n",
    "    :param request: an instance of :attr:`request_class`.\n",
    "    \"\"\"\n",
    "    key = self.secret_key\n",
    "    if key is not None:\n",
    "        return SecureCookie.load_cookie(request, self.session_cookie_name, secret_key=key)"
   ]
  }
 ],
 "metadata": {
  "kernelspec": {
   "display_name": "Python 3",
   "language": "python",
   "name": "python3"
  },
  "language_info": {
   "codemirror_mode": {
    "name": "ipython",
    "version": 3
   },
   "file_extension": ".py",
   "mimetype": "text/x-python",
   "name": "python",
   "nbconvert_exporter": "python",
   "pygments_lexer": "ipython3",
   "version": "3.6.1"
  }
 },
 "nbformat": 4,
 "nbformat_minor": 2
}
