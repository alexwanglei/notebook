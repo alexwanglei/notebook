{
 "cells": [
  {
   "cell_type": "markdown",
   "metadata": {},
   "source": [
    "### Flask应用中定义路由\n",
    "* 通过装饰器定义路由\n",
    "* 通过app.add_url_rule函数增加路由"
   ]
  },
  {
   "cell_type": "code",
   "execution_count": null,
   "metadata": {
    "collapsed": true
   },
   "outputs": [],
   "source": [
    "@app.route('/')\n",
    "def hello():\n",
    "    return \"hello, world!\""
   ]
  },
  {
   "cell_type": "markdown",
   "metadata": {},
   "source": [
    "### route装饰器\n",
    "装饰器知识点：\n",
    "* 把被装饰的函数替换成其他函数\n",
    "* 在加载模块时立即执行\n",
    "这里route是装饰器工厂函数，实现让装饰器接收其他参数（rule），然后返回装饰器decorator(f)\n",
    "在装饰器中将rule和被装饰的函数名f._ _name_ _关联保存起来\n",
    "将函数名和函数保存到self.view_functions字典中"
   ]
  },
  {
   "cell_type": "code",
   "execution_count": null,
   "metadata": {
    "collapsed": true
   },
   "outputs": [],
   "source": [
    "def route(self, rule, **options):    \n",
    "    def decorator(f):\n",
    "            self.add_url_rule(rule, f.__name__, **options)\n",
    "            self.view_functions[f.__name__] = f\n",
    "            return f\n",
    "    return decorator"
   ]
  },
  {
   "cell_type": "markdown",
   "metadata": {},
   "source": [
    "####  self.add_url_rule函数\n",
    "函数参数知识点：\n",
    "* 可变参数: * args 不传参数时为（）空元组\n",
    "* 关键字参数: * * kvs 不传参数时为 {} 空字典\n",
    "\n",
    "字典知识点：\n",
    "* setdefault方法：如果键不存在于字典中，将会添加键并将值设为默认值，返回为该默认值。否则返回键对应的值。\n",
    "\n",
    "self.url_map是一个Map对象存储所有的URL rules"
   ]
  },
  {
   "cell_type": "code",
   "execution_count": null,
   "metadata": {
    "collapsed": true
   },
   "outputs": [],
   "source": [
    "def add_url_rule(self, rule, endpoint, **options):\n",
    "    options['endpoint'] = endpoint\n",
    "    options.setdefault('methods', ('GET',))\n",
    "    self.url_map.add(Rule(rule, **options))"
   ]
  },
  {
   "cell_type": "markdown",
   "metadata": {},
   "source": [
    "### 处理请求的路由查找过程\n",
    "#### 匹配请求\n",
    "请求上下文中有属性url_adapter\n",
    " self.url_adapter = app.url_map.bind_to_environ(environ) 通过bind_to_environ提取environ字典中的信息，然后返回Map.bind，Map.bind中最后返回MapAdapter对象"
   ]
  },
  {
   "cell_type": "code",
   "execution_count": null,
   "metadata": {
    "collapsed": true
   },
   "outputs": [],
   "source": [
    "def match_request(self):\n",
    "    \"\"\"Matches the current request against the URL map and also\n",
    "    stores the endpoint and view arguments on the request object\n",
    "    is successful, otherwise the exception is stored.\n",
    "    \"\"\"\n",
    "    rv = _request_ctx_stack.top.url_adapter.match()\n",
    "    request.endpoint, request.view_args = rv\n",
    "    return rv"
   ]
  },
  {
   "cell_type": "markdown",
   "metadata": {},
   "source": [
    "#### MapAdapter.match方法\n",
    "遍历map中的rules列表，查找匹配的rule。返回endpoint和参数（字典类型）"
   ]
  },
  {
   "cell_type": "code",
   "execution_count": null,
   "metadata": {
    "collapsed": true
   },
   "outputs": [],
   "source": [
    "def match(self, path_info=None, method=None, return_rule=False, query_args=None):\n",
    "    \"\"\"\"\"\"\n",
    "    have_match_for = set()\n",
    "    for rule in self.map._rules:\n",
    "        try:\n",
    "            rv = rule.match(path, method)\n",
    "        except RequestSlash:\n",
    "            raise RequestRedirect(self.make_redirect_url(\n",
    "                url_quote(path_info, self.map.charset,\n",
    "                          safe='/:|+') + '/', query_args))\n",
    "        except RequestAliasRedirect as e:\n",
    "            raise RequestRedirect(self.make_alias_redirect_url(\n",
    "                path, rule.endpoint, e.matched_values, method, query_args))\n",
    "        if rv is None:\n",
    "            continue\n",
    "        \"\"\"\"\"\"\n",
    "\n",
    "        if return_rule:\n",
    "            return rule, rv\n",
    "        else:\n",
    "            return rule.endpoint, rv\n",
    "\n",
    "        if have_match_for:\n",
    "            raise MethodNotAllowed(valid_methods=list(have_match_for))\n",
    "        raise NotFound()"
   ]
  },
  {
   "cell_type": "markdown",
   "metadata": {},
   "source": [
    "#### 调用请求url绑定的函数\n",
    "根据匹配返回的endpoint和参数，查找字典self.view_functions中endpoint对应的函数调用"
   ]
  },
  {
   "cell_type": "code",
   "execution_count": null,
   "metadata": {
    "collapsed": true
   },
   "outputs": [],
   "source": [
    " def dispatch_request(self):\n",
    "        \"\"\"Does the request dispatching.  Matches the URL and returns the\n",
    "        return value of the view or error handler.  This does not have to\n",
    "        be a response object.  In order to convert the return value to a\n",
    "        proper response object, call :func:`make_response`.\n",
    "        \"\"\"\n",
    "        try:\n",
    "            endpoint, values = self.match_request()\n",
    "            return self.view_functions[endpoint](**values)\n",
    "        except HTTPException, e:\n",
    "            handler = self.error_handlers.get(e.code)\n",
    "            if handler is None:\n",
    "                return e\n",
    "            return handler(e)\n",
    "        except Exception, e:\n",
    "            handler = self.error_handlers.get(500)\n",
    "            if self.debug or handler is None:\n",
    "                raise\n",
    "            return handler(e)"
   ]
  },
  {
   "cell_type": "code",
   "execution_count": null,
   "metadata": {},
   "outputs": [],
   "source": []
  },
  {
   "cell_type": "code",
   "execution_count": null,
   "metadata": {
    "collapsed": true
   },
   "outputs": [],
   "source": []
  }
 ],
 "metadata": {
  "kernelspec": {
   "display_name": "Python 3",
   "language": "python",
   "name": "python3"
  },
  "language_info": {
   "codemirror_mode": {
    "name": "ipython",
    "version": 3
   },
   "file_extension": ".py",
   "mimetype": "text/x-python",
   "name": "python",
   "nbconvert_exporter": "python",
   "pygments_lexer": "ipython3",
   "version": "3.6.1"
  }
 },
 "nbformat": 4,
 "nbformat_minor": 2
}
