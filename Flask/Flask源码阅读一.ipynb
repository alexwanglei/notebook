{
 "cells": [
  {
   "cell_type": "markdown",
   "metadata": {},
   "source": [
    "## Flask运行流程\n",
    "\n",
    "### Flask应用示例"
   ]
  },
  {
   "cell_type": "code",
   "execution_count": 1,
   "metadata": {},
   "outputs": [
    {
     "name": "stderr",
     "output_type": "stream",
     "text": [
      " * Running on http://127.0.0.1:5000/ (Press CTRL+C to quit)\n"
     ]
    }
   ],
   "source": [
    "from flask import Flask\n",
    "app = Flask(__name__)\n",
    " \n",
    "@app.route('/')\n",
    "def hello_world():\n",
    "    return 'Hello, World!'\n",
    " \n",
    "if __name__ == '__main__':\n",
    "    app.run()"
   ]
  },
  {
   "cell_type": "markdown",
   "metadata": {},
   "source": [
    "### Flask类run方法\n",
    "在本地开发环境上运行应用"
   ]
  },
  {
   "cell_type": "code",
   "execution_count": 2,
   "metadata": {
    "collapsed": true
   },
   "outputs": [],
   "source": [
    "def run(self, host='localhost', port=5000, **options):\n",
    "    \"\"\"Runs the application on a local development server.  If the\n",
    "    :attr:`debug` flag is set the server will automatically reload\n",
    "    for code changes and show a debugger in case an exception happened.\n",
    "\n",
    "    :param host: the hostname to listen on.  set this to ``'0.0.0.0'``\n",
    "                 to have the server available externally as well.\n",
    "    :param port: the port of the webserver\n",
    "    :param options: the options to be forwarded to the underlying\n",
    "                    Werkzeug server.  See :func:`werkzeug.run_simple`\n",
    "                    for more information.\n",
    "    \"\"\"\n",
    "    from werkzeug import run_simple\n",
    "    if 'debug' in options:\n",
    "        self.debug = options.pop('debug')\n",
    "    options.setdefault('use_reloader', self.debug)\n",
    "    options.setdefault('use_debugger', self.debug)\n",
    "    return run_simple(host, port, self, **options)"
   ]
  },
  {
   "cell_type": "markdown",
   "metadata": {},
   "source": [
    "### werkzeug.serving.run_simple方法\n",
    "启动一个WSGI应用"
   ]
  },
  {
   "cell_type": "code",
   "execution_count": 3,
   "metadata": {},
   "outputs": [
    {
     "ename": "SyntaxError",
     "evalue": "invalid syntax (<ipython-input-3-ed3c1cb4c3a4>, line 1)",
     "output_type": "error",
     "traceback": [
      "\u001b[1;36m  File \u001b[1;32m\"<ipython-input-3-ed3c1cb4c3a4>\"\u001b[1;36m, line \u001b[1;32m1\u001b[0m\n\u001b[1;33m    def run_simple(hostname, port, application, ...):\u001b[0m\n\u001b[1;37m                                                  ^\u001b[0m\n\u001b[1;31mSyntaxError\u001b[0m\u001b[1;31m:\u001b[0m invalid syntax\n"
     ]
    }
   ],
   "source": [
    "def run_simple(hostname, port, application, ...):\n",
    "    \"\"\"...\"\"\"\n",
    "    inner()\n",
    "    \n",
    "    def inner():\n",
    "        try:\n",
    "            fd = int(os.environ['WERKZEUG_SERVER_FD'])\n",
    "        except (LookupError, ValueError):\n",
    "            fd = None\n",
    "        srv = make_server(hostname, port, application, threaded,\n",
    "                          processes, request_handler,\n",
    "                          passthrough_errors, ssl_context,\n",
    "                          fd=fd)\n",
    "        if fd is None:\n",
    "            log_startup(srv.socket)\n",
    "        srv.serve_forever()"
   ]
  },
  {
   "cell_type": "markdown",
   "metadata": {},
   "source": [
    "### 调用werkzeug.serving.make_server\n",
    "创建一个WSGI服务器实例"
   ]
  },
  {
   "cell_type": "code",
   "execution_count": 4,
   "metadata": {
    "collapsed": true
   },
   "outputs": [],
   "source": [
    "def make_server(host=None, port=None, app=None, threaded=False, processes=1,\n",
    "                request_handler=None, passthrough_errors=False,\n",
    "                ssl_context=None, fd=None):\n",
    "    \"\"\"Create a new server instance that is either threaded, or forks\n",
    "    or just processes one request after another.\n",
    "    \"\"\"\n",
    "    if threaded and processes > 1:\n",
    "        raise ValueError(\"cannot have a multithreaded and \"\n",
    "                         \"multi process server.\")\n",
    "    elif threaded:\n",
    "        return ThreadedWSGIServer(host, port, app, request_handler,\n",
    "                                  passthrough_errors, ssl_context, fd=fd)\n",
    "    elif processes > 1:\n",
    "        return ForkingWSGIServer(host, port, app, processes, request_handler,\n",
    "                                 passthrough_errors, ssl_context, fd=fd)\n",
    "    else:\n",
    "        return BaseWSGIServer(host, port, app, request_handler,\n",
    "                              passthrough_errors, ssl_context, fd=fd)"
   ]
  },
  {
   "cell_type": "markdown",
   "metadata": {},
   "source": [
    "### BaseWSGIServer\n",
    "简单单线程单进程WSGI服务器，继承HTTPServer"
   ]
  },
  {
   "cell_type": "code",
   "execution_count": 5,
   "metadata": {},
   "outputs": [
    {
     "ename": "NameError",
     "evalue": "name 'HTTPServer' is not defined",
     "output_type": "error",
     "traceback": [
      "\u001b[1;31m---------------------------------------------------------------------------\u001b[0m",
      "\u001b[1;31mNameError\u001b[0m                                 Traceback (most recent call last)",
      "\u001b[1;32m<ipython-input-5-f2fcf039d302>\u001b[0m in \u001b[0;36m<module>\u001b[1;34m()\u001b[0m\n\u001b[1;32m----> 1\u001b[1;33m \u001b[1;32mclass\u001b[0m \u001b[0mBaseWSGIServer\u001b[0m\u001b[1;33m(\u001b[0m\u001b[0mHTTPServer\u001b[0m\u001b[1;33m,\u001b[0m \u001b[0mobject\u001b[0m\u001b[1;33m)\u001b[0m\u001b[1;33m:\u001b[0m\u001b[1;33m\u001b[0m\u001b[0m\n\u001b[0m\u001b[0;32m      2\u001b[0m     \u001b[1;32mdef\u001b[0m \u001b[0m__init__\u001b[0m\u001b[1;33m(\u001b[0m\u001b[0mself\u001b[0m\u001b[1;33m,\u001b[0m \u001b[0mhost\u001b[0m\u001b[1;33m,\u001b[0m \u001b[0mport\u001b[0m\u001b[1;33m,\u001b[0m \u001b[0mapp\u001b[0m\u001b[1;33m,\u001b[0m \u001b[0mhandler\u001b[0m\u001b[1;33m=\u001b[0m\u001b[1;32mNone\u001b[0m\u001b[1;33m,\u001b[0m \u001b[0mpassthrough_errors\u001b[0m\u001b[1;33m=\u001b[0m\u001b[1;32mFalse\u001b[0m\u001b[1;33m,\u001b[0m \u001b[0mssl_context\u001b[0m\u001b[1;33m=\u001b[0m\u001b[1;32mNone\u001b[0m\u001b[1;33m,\u001b[0m \u001b[0mfd\u001b[0m\u001b[1;33m=\u001b[0m\u001b[1;32mNone\u001b[0m\u001b[1;33m)\u001b[0m\u001b[1;33m:\u001b[0m\u001b[1;33m\u001b[0m\u001b[0m\n\u001b[0;32m      3\u001b[0m         \u001b[1;32mif\u001b[0m \u001b[0mhandler\u001b[0m \u001b[1;32mis\u001b[0m \u001b[1;32mNone\u001b[0m\u001b[1;33m:\u001b[0m\u001b[1;33m\u001b[0m\u001b[0m\n\u001b[0;32m      4\u001b[0m             \u001b[0mhandler\u001b[0m \u001b[1;33m=\u001b[0m \u001b[0mWSGIRequestHandler\u001b[0m\u001b[1;33m\u001b[0m\u001b[0m\n\u001b[0;32m      5\u001b[0m         \u001b[0mHTTPServer\u001b[0m\u001b[1;33m.\u001b[0m\u001b[0m__init__\u001b[0m\u001b[1;33m(\u001b[0m\u001b[0mself\u001b[0m\u001b[1;33m,\u001b[0m \u001b[0mget_sockaddr\u001b[0m\u001b[1;33m(\u001b[0m\u001b[0mhost\u001b[0m\u001b[1;33m,\u001b[0m \u001b[0mint\u001b[0m\u001b[1;33m(\u001b[0m\u001b[0mport\u001b[0m\u001b[1;33m)\u001b[0m\u001b[1;33m,\u001b[0m \u001b[0mself\u001b[0m\u001b[1;33m.\u001b[0m\u001b[0maddress_family\u001b[0m\u001b[1;33m)\u001b[0m\u001b[1;33m,\u001b[0m \u001b[0mhandler\u001b[0m\u001b[1;33m)\u001b[0m\u001b[1;33m\u001b[0m\u001b[0m\n",
      "\u001b[1;31mNameError\u001b[0m: name 'HTTPServer' is not defined"
     ]
    }
   ],
   "source": [
    "class BaseWSGIServer(HTTPServer, object):\n",
    "    def __init__(self, host, port, app, handler=None, passthrough_errors=False, ssl_context=None, fd=None):\n",
    "        if handler is None:\n",
    "            handler = WSGIRequestHandler\n",
    "        HTTPServer.__init__(self, get_sockaddr(host, int(port), self.address_family), handler)\n",
    "        \n",
    "    def serve_forever(self):\n",
    "        self.shutdown_signal = False\n",
    "        try:\n",
    "            HTTPServer.serve_forever(self)\n",
    "        except KeyboardInterrupt:\n",
    "            pass\n",
    "        finally:\n",
    "            self.server_close()"
   ]
  },
  {
   "cell_type": "markdown",
   "metadata": {},
   "source": [
    "### BaseWSGIServer.serve_forever\n",
    "就是HTTPServer.serve_forever的流程\n",
    "### WSGIRequestHandler\n",
    "WSGI请求处理器"
   ]
  },
  {
   "cell_type": "code",
   "execution_count": null,
   "metadata": {
    "collapsed": true
   },
   "outputs": [],
   "source": [
    "class WSGIRequestHandler(BaseHTTPRequestHandler, object):\n",
    "\n",
    "    \"\"\"A request handler that implements WSGI dispatching.\"\"\"\n",
    "    \n",
    "    def handle(self):\n",
    "        \"\"\"Handles a request ignoring dropped connections.\"\"\"\n",
    "        rv = None\n",
    "        try:\n",
    "            rv = BaseHTTPRequestHandler.handle(self)\n",
    "        except (socket.error, socket.timeout) as e:\n",
    "            self.connection_dropped(e)\n",
    "        except Exception:\n",
    "            if self.server.ssl_context is None or not is_ssl_error():\n",
    "                raise\n",
    "        if self.server.shutdown_signal:\n",
    "            self.initiate_shutdown()"
   ]
  },
  {
   "cell_type": "markdown",
   "metadata": {},
   "source": [
    "### 调用BaseHTTPRequestHandler.handle"
   ]
  },
  {
   "cell_type": "code",
   "execution_count": null,
   "metadata": {
    "collapsed": true
   },
   "outputs": [],
   "source": [
    "def handle(self):\n",
    "    \"\"\"Handle multiple requests if necessary.\"\"\"\n",
    "    self.close_connection = 1\n",
    "\n",
    "    self.handle_one_request()\n",
    "    while not self.close_connection:\n",
    "        self.handle_one_request()"
   ]
  },
  {
   "cell_type": "markdown",
   "metadata": {},
   "source": [
    "### WSGIRequestHandler.handle_one_request"
   ]
  },
  {
   "cell_type": "code",
   "execution_count": null,
   "metadata": {
    "collapsed": true
   },
   "outputs": [],
   "source": [
    "def handle_one_request(self):\n",
    "    \"\"\"Handle a single HTTP request.\"\"\"\n",
    "    self.raw_requestline = self.rfile.readline()\n",
    "    if not self.raw_requestline:\n",
    "        self.close_connection = 1\n",
    "    elif self.parse_request():\n",
    "        return self.run_wsgi()"
   ]
  },
  {
   "cell_type": "markdown",
   "metadata": {},
   "source": [
    "### WSGIRequestHandler.run_wsgi"
   ]
  },
  {
   "cell_type": "code",
   "execution_count": null,
   "metadata": {
    "collapsed": true
   },
   "outputs": [],
   "source": [
    "    def run_wsgi(self):\n",
    "        if self.headers.get('Expect', '').lower().strip() == '100-continue':\n",
    "            self.wfile.write(b'HTTP/1.1 100 Continue\\r\\n\\r\\n')\n",
    "\n",
    "        self.environ = environ = self.make_environ()\n",
    "        headers_set = []\n",
    "        headers_sent = []\n",
    "\n",
    "        def write(data):\n",
    "            assert headers_set, 'write() before start_response'\n",
    "            if not headers_sent:\n",
    "                status, response_headers = headers_sent[:] = headers_set\n",
    "                try:\n",
    "                    code, msg = status.split(None, 1)\n",
    "                except ValueError:\n",
    "                    code, msg = status, \"\"\n",
    "                code = int(code)\n",
    "                self.send_response(code, msg)\n",
    "                header_keys = set()\n",
    "                for key, value in response_headers:\n",
    "                    self.send_header(key, value)\n",
    "                    key = key.lower()\n",
    "                    header_keys.add(key)\n",
    "                if not ('content-length' in header_keys or\n",
    "                        environ['REQUEST_METHOD'] == 'HEAD' or\n",
    "                        code < 200 or code in (204, 304)):\n",
    "                    self.close_connection = True\n",
    "                    self.send_header('Connection', 'close')\n",
    "                if 'server' not in header_keys:\n",
    "                    self.send_header('Server', self.version_string())\n",
    "                if 'date' not in header_keys:\n",
    "                    self.send_header('Date', self.date_time_string())\n",
    "                self.end_headers()\n",
    "\n",
    "            assert isinstance(data, bytes), 'applications must write bytes'\n",
    "            self.wfile.write(data)\n",
    "            self.wfile.flush()\n",
    "\n",
    "        def start_response(status, response_headers, exc_info=None):\n",
    "            if exc_info:\n",
    "                try:\n",
    "                    if headers_sent:\n",
    "                        reraise(*exc_info)\n",
    "                finally:\n",
    "                    exc_info = None\n",
    "            elif headers_set:\n",
    "                raise AssertionError('Headers already set')\n",
    "            headers_set[:] = [status, response_headers]\n",
    "            return write\n",
    "\n",
    "        def execute(app):\n",
    "            application_iter = app(environ, start_response)\n",
    "            try:\n",
    "                for data in application_iter:\n",
    "                    write(data)\n",
    "                if not headers_sent:\n",
    "                    write(b'')\n",
    "            finally:\n",
    "                if hasattr(application_iter, 'close'):\n",
    "                    application_iter.close()\n",
    "                application_iter = None\n",
    "\n",
    "        try:\n",
    "            execute(self.server.app)\n",
    "        except (socket.error, socket.timeout) as e:\n",
    "            self.connection_dropped(e, environ)\n",
    "        except Exception:\n",
    "            if self.server.passthrough_errors:\n",
    "                raise\n",
    "            from werkzeug.debug.tbtools import get_current_traceback\n",
    "            traceback = get_current_traceback(ignore_system_exceptions=True)\n",
    "            try:\n",
    "                # if we haven't yet sent the headers but they are set\n",
    "                # we roll back to be able to set them again.\n",
    "                if not headers_sent:\n",
    "                    del headers_set[:]\n",
    "                execute(InternalServerError())\n",
    "            except Exception:\n",
    "                pass\n",
    "            self.server.log('error', 'Error on request:\\n%s', traceback.plaintext)"
   ]
  },
  {
   "cell_type": "markdown",
   "metadata": {},
   "source": [
    "### application(environ, start_response)\n",
    "Flask中__call__方法"
   ]
  },
  {
   "cell_type": "code",
   "execution_count": null,
   "metadata": {
    "collapsed": true
   },
   "outputs": [],
   "source": [
    "    def __call__(self, environ, start_response):\n",
    "        \"\"\"Shortcut for :attr:`wsgi_app`\"\"\"\n",
    "        return self.wsgi_app(environ, start_response)"
   ]
  },
  {
   "cell_type": "markdown",
   "metadata": {},
   "source": [
    "Flask.wsgi_app方法"
   ]
  },
  {
   "cell_type": "code",
   "execution_count": null,
   "metadata": {
    "collapsed": true
   },
   "outputs": [],
   "source": [
    "    def wsgi_app(self, environ, start_response):\n",
    "        \"\"\"The actual WSGI application.  This is not implemented in\n",
    "        `__call__` so that middlewares can be applied:\n",
    "\n",
    "            app.wsgi_app = MyMiddleware(app.wsgi_app)\n",
    "\n",
    "        :param environ: a WSGI environment\n",
    "        :param start_response: a callable accepting a status code,\n",
    "                               a list of headers and an optional\n",
    "                               exception context to start the response\n",
    "        \"\"\"\n",
    "        with self.request_context(environ):\n",
    "            rv = self.preprocess_request()\n",
    "            if rv is None:\n",
    "                rv = self.dispatch_request()\n",
    "            response = self.make_response(rv)\n",
    "            response = self.process_response(response)\n",
    "            return response(environ, start_response)"
   ]
  }
 ],
 "metadata": {
  "kernelspec": {
   "display_name": "Python 3",
   "language": "python",
   "name": "python3"
  },
  "language_info": {
   "codemirror_mode": {
    "name": "ipython",
    "version": 3
   },
   "file_extension": ".py",
   "mimetype": "text/x-python",
   "name": "python",
   "nbconvert_exporter": "python",
   "pygments_lexer": "ipython3",
   "version": "3.6.1"
  }
 },
 "nbformat": 4,
 "nbformat_minor": 2
}
