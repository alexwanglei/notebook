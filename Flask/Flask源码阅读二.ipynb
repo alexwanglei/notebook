{
 "cells": [
  {
   "cell_type": "markdown",
   "metadata": {},
   "source": [
    "### Flask中请求处理流程"
   ]
  },
  {
   "cell_type": "code",
   "execution_count": null,
   "metadata": {
    "collapsed": true
   },
   "outputs": [],
   "source": [
    "def __call__(self, environ, start_response):\n",
    "    \"\"\"Shortcut for :attr:`wsgi_app`\"\"\"\n",
    "    return self.wsgi_app(environ, start_response)"
   ]
  },
  {
   "cell_type": "markdown",
   "metadata": {},
   "source": [
    "### Flask.wsgi_app方法\n",
    "* self.request_context(environ): 打开请求上下文\n",
    "* self.preprocess_request(): 分发请求前的预处理\n",
    "* self.dispatch_request():分发请求\n",
    "* self.make_response(rv)：生成响应\n",
    "* self.process_response(response)：处理响应"
   ]
  },
  {
   "cell_type": "code",
   "execution_count": null,
   "metadata": {
    "collapsed": true
   },
   "outputs": [],
   "source": [
    "def wsgi_app(self, environ, start_response):\n",
    "    \"\"\"The actual WSGI application.  This is not implemented in\n",
    "    `__call__` so that middlewares can be applied:\n",
    "\n",
    "        app.wsgi_app = MyMiddleware(app.wsgi_app)\n",
    "\n",
    "    :param environ: a WSGI environment\n",
    "    :param start_response: a callable accepting a status code,\n",
    "                           a list of headers and an optional\n",
    "                           exception context to start the response\n",
    "    \"\"\"\n",
    "    with self.request_context(environ):\n",
    "        rv = self.preprocess_request()\n",
    "        if rv is None:\n",
    "            rv = self.dispatch_request()\n",
    "        response = self.make_response(rv)\n",
    "        response = self.process_response(response)\n",
    "        return response(environ, start_response)"
   ]
  },
  {
   "cell_type": "markdown",
   "metadata": {},
   "source": [
    "#### 打开请求上下文\n",
    "self.request_context(environ) 直接返回 _RequestContext实例\n",
    "_RequestContext类定义了_ _enter _ _ 和_ _exit_ _方法：这里使用到了python的上下文管理器，with语句开始运行时，会在上下文管理器对象上调用_ _enter_ _方法。with语句运行结束后，会在上下文管理器对象上调用_ _exit_ _方法。\n",
    "因此with self.request_context(environ)将创建的请求上下文压入 _ request_ctx_stack中\n",
    "#### 请求上下文\n",
    "RequestContext对象的属性有:\n",
    "* app\n",
    "* url_adapter：负责路由查找\n",
    "* request\n",
    "* session\n",
    "* g "
   ]
  },
  {
   "cell_type": "code",
   "execution_count": null,
   "metadata": {
    "collapsed": true
   },
   "outputs": [],
   "source": [
    "def request_context(self, environ):\n",
    "    return _RequestContext(self, environ)\n",
    "    \n",
    "class _RequestContext(object):\n",
    "    \"\"\"The request context contains all request relevant information.  It is\n",
    "    created at the beginning of the request and pushed to the\n",
    "    `_request_ctx_stack` and removed at the end of it.  It will create the\n",
    "    URL adapter and request object for the WSGI environment provided.\n",
    "    \"\"\"\n",
    "\n",
    "    def __init__(self, app, environ):\n",
    "        self.app = app\n",
    "        self.url_adapter = app.url_map.bind_to_environ(environ)\n",
    "        self.request = app.request_class(environ)\n",
    "        self.session = app.open_session(self.request)\n",
    "        self.g = _RequestGlobals()\n",
    "        self.flashes = None\n",
    "\n",
    "    def __enter__(self):\n",
    "        _request_ctx_stack.push(self)\n",
    "\n",
    "    def __exit__(self, exc_type, exc_value, tb):\n",
    "        # do not pop the request stack if we are in debug mode and an\n",
    "        # exception happened.  This will allow the debugger to still\n",
    "        # access the request object in the interactive shell.\n",
    "        if tb is None or not self.app.debug:\n",
    "            _request_ctx_stack.pop()"
   ]
  },
  {
   "cell_type": "markdown",
   "metadata": {},
   "source": [
    "#### 分发请求\n",
    "* self.match_request():匹配请求\n",
    "* self.view_functions :调用视图函数"
   ]
  },
  {
   "cell_type": "code",
   "execution_count": null,
   "metadata": {
    "collapsed": true
   },
   "outputs": [],
   "source": [
    "def dispatch_request(self):\n",
    "    \"\"\"Does the request dispatching.  Matches the URL and returns the\n",
    "    return value of the view or error handler.  This does not have to\n",
    "    be a response object.  In order to convert the return value to a\n",
    "    proper response object, call :func:`make_response`.\n",
    "    \"\"\"\n",
    "    try:\n",
    "        endpoint, values = self.match_request()\n",
    "        return self.view_functions[endpoint](**values)\n",
    "    except HTTPException, e:\n",
    "        handler = self.error_handlers.get(e.code)\n",
    "        if handler is None:\n",
    "            return e\n",
    "        return handler(e)\n",
    "    except Exception, e:\n",
    "        handler = self.error_handlers.get(500)\n",
    "        if self.debug or handler is None:\n",
    "            raise\n",
    "        return handler(e)"
   ]
  },
  {
   "cell_type": "markdown",
   "metadata": {},
   "source": [
    "#### 匹配请求\n",
    "获取请求上下文，使用url_adapter进行匹配"
   ]
  },
  {
   "cell_type": "code",
   "execution_count": null,
   "metadata": {
    "collapsed": true
   },
   "outputs": [],
   "source": [
    "def match_request(self):\n",
    "    \"\"\"Matches the current request against the URL map and also\n",
    "    stores the endpoint and view arguments on the request object\n",
    "    is successful, otherwise the exception is stored.\n",
    "    \"\"\"\n",
    "    rv = _request_ctx_stack.top.url_adapter.match()\n",
    "    request.endpoint, request.view_args = rv\n",
    "    return rv"
   ]
  },
  {
   "cell_type": "markdown",
   "metadata": {},
   "source": [
    "#### 生成响应\n",
    "把视图函数返回的结果包装成Response"
   ]
  },
  {
   "cell_type": "code",
   "execution_count": null,
   "metadata": {
    "collapsed": true
   },
   "outputs": [],
   "source": [
    "def make_response(self, rv):\n",
    "    \"\"\"Converts the return value from a view function to a real\n",
    "    response object that is an instance of :attr:`response_class`.\n",
    "\n",
    "    The following types are allowd for `rv`:\n",
    "\n",
    "    ======================= ===========================================\n",
    "    :attr:`response_class`  the object is returned unchanged\n",
    "    :class:`str`            a response object is created with the\n",
    "                            string as body\n",
    "    :class:`unicode`        a response object is created with the\n",
    "                            string encoded to utf-8 as body\n",
    "    :class:`tuple`          the response object is created with the\n",
    "                            contents of the tuple as arguments\n",
    "    a WSGI function         the function is called as WSGI application\n",
    "                            and buffered as response object\n",
    "    ======================= ===========================================\n",
    "\n",
    "    :param rv: the return value from the view function\n",
    "    \"\"\"\n",
    "    if isinstance(rv, self.response_class):\n",
    "        return rv\n",
    "    if isinstance(rv, basestring):\n",
    "        return self.response_class(rv)\n",
    "    if isinstance(rv, tuple):\n",
    "        return self.response_class(*rv)\n",
    "    return self.response_class.force_type(rv, request.environ)"
   ]
  },
  {
   "cell_type": "markdown",
   "metadata": {},
   "source": [
    "#### 处理响应结果\n"
   ]
  },
  {
   "cell_type": "code",
   "execution_count": null,
   "metadata": {
    "collapsed": true
   },
   "outputs": [],
   "source": [
    "def process_response(self, response):\n",
    "    \"\"\"Can be overridden in order to modify the response object\n",
    "    before it's sent to the WSGI server.  By default this will\n",
    "    call all the :meth:`after_request` decorated functions.\n",
    "\n",
    "    :param response: a :attr:`response_class` object.\n",
    "    :return: a new response object or the same, has to be an\n",
    "             instance of :attr:`response_class`.\n",
    "    \"\"\"\n",
    "    session = _request_ctx_stack.top.session\n",
    "    if session is not None:\n",
    "        self.save_session(session, response)\n",
    "    for handler in self.after_request_funcs:\n",
    "        response = handler(response)\n",
    "    return response"
   ]
  }
 ],
 "metadata": {
  "kernelspec": {
   "display_name": "Python 3",
   "language": "python",
   "name": "python3"
  },
  "language_info": {
   "codemirror_mode": {
    "name": "ipython",
    "version": 3
   },
   "file_extension": ".py",
   "mimetype": "text/x-python",
   "name": "python",
   "nbconvert_exporter": "python",
   "pygments_lexer": "ipython3",
   "version": "3.6.1"
  }
 },
 "nbformat": 4,
 "nbformat_minor": 2
}
